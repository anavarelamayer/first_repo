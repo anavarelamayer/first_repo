{
 "cells": [
  {
   "cell_type": "code",
   "execution_count": null,
   "id": "82e3b38d-5b8b-4070-9d33-2b8e6bfda473",
   "metadata": {},
   "outputs": [],
   "source": [
    "# Start by calculating the area of a circle\n",
    "# Step 1: Define the value of pi\n",
    "pi = 3.14159\n",
    "\n",
    "# Step 2: Define the radius of the circle\n",
    "radius = 2.2\n",
    "\n",
    "# Step 3: Use the formula for the area of a circle: A = πr²\n",
    "area = pi * (radius**2)\n",
    "\n",
    "# Step 4: Print the result\n",
    "print(area)"
   ]
  },
  {
   "cell_type": "code",
   "execution_count": null,
   "id": "ed056158-7a44-4827-b899-2c6138850ea8",
   "metadata": {},
   "outputs": [],
   "source": [
    "# Now see what happens when the radius changes\n",
    "\n",
    "# Increase the radius by 1\n",
    "radius = radius + 1\n",
    "\n",
    "# Notice: if we print \"area\" now, it still shows the former value\n",
    "print(area)\n",
    "\n",
    "# Recalculate the area with the new radius\n",
    "area = pi * (radius**2)\n",
    "\n",
    "# Print the updated area\n",
    "print(area)\n"
   ]
  },
  {
   "cell_type": "code",
   "execution_count": null,
   "id": "b7b1968d-da97-49ff-bd8f-28b886002c60",
   "metadata": {},
   "outputs": [],
   "source": [
    "# Use comments to explain code or temporarily disable it.\n",
    "# In Jupyter, highlight several lines of code and press Command +1\n",
    "# This will comment them all at once.\n",
    "# Press Command +1 again to uncomment them.\n",
    "\n",
    "# Highlight the following lines and toggle the comments\n",
    "\n",
    "# area = pi * (radius**2)\n",
    "# print(area)\n",
    "# radius = radius + 1\n",
    "# area = pi * (radius**2)\n",
    "# print(area)"
   ]
  },
  {
   "cell_type": "code",
   "execution_count": null,
   "id": "4ff35e85-0644-407e-a578-2974db3cf75c",
   "metadata": {},
   "outputs": [],
   "source": [
    "# use TAB for autocomplete.\n",
    "# Start typing a variable name you’ve already defined, and press TAB to complete it.\n",
    "\n",
    "# Example: define a variable with a very long name\n",
    "a_very_long_variable_name_dont_name_them_this_long_pls = 0\n",
    "\n",
    "# Type \"a_ve\" and press TAB to autocomplete the variable name.\n",
    "# Change the value of this variable to 1.\n",
    "\n",
    "# Finally, use autocomplete again to write a line that prints the value."
   ]
  }
 ],
 "metadata": {
  "kernelspec": {
   "display_name": "Python [conda env:base] *",
   "language": "python",
   "name": "conda-base-py"
  },
  "language_info": {
   "codemirror_mode": {
    "name": "ipython",
    "version": 3
   },
   "file_extension": ".py",
   "mimetype": "text/x-python",
   "name": "python",
   "nbconvert_exporter": "python",
   "pygments_lexer": "ipython3",
   "version": "3.13.5"
  }
 },
 "nbformat": 4,
 "nbformat_minor": 5
}
